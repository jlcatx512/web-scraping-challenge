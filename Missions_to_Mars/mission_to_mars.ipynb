{
 "cells": [
  {
   "cell_type": "markdown",
   "metadata": {},
   "source": [
    "## October 14, 2019 ##\n",
    "* Jadd Cheng\n",
    "* [HW Instructions](https://github.com/the-Coding-Boot-Camp-at-UT/UT-MCB-DATA-PT-07-2019-U-C/tree/master/homework-instructions/12-Web-Scraping-and-Document-Databases/Instructions)\n",
    "\n",
    "## 5 sites to scrape: ##\n",
    "1. [NASA Mars News](https://mars.nasa.gov/news/)\n",
    "2. [JPL Mars Space Images ](https://www.jpl.nasa.gov/spaceimages/?search=&category=Mars)\n",
    "3. [Mars Weather](https://twitter.com/marswxreport?lang=en)\n",
    "4. [Mars Facts](https://space-facts.com/mars/)\n",
    "5. [Mars Hemispheres](https://astrogeology.usgs.gov/search/results?q=hemisphere+enhanced&k1=target&v1=Mars)\n",
    "\n",
    "## Strategy ##\n",
    "1. NASA Mars News\n",
    "2. JPL Mars Space Images\n",
    "3. Mars Weather\n",
    "4. Mars Facts\n",
    "5. Mars Hemispheres"
   ]
  },
  {
   "cell_type": "code",
   "execution_count": 1,
   "metadata": {},
   "outputs": [],
   "source": [
    "# Import dependencies\n",
    "import pandas as pd\n",
    "from bs4 import BeautifulSoup as bs\n",
    "import requests\n",
    "from splinter import Browser\n",
    "from urllib.parse import urlparse\n",
    "import time # for sleep statement"
   ]
  },
  {
   "cell_type": "code",
   "execution_count": 2,
   "metadata": {},
   "outputs": [],
   "source": [
    "# splinter\n",
    "# NB chromedriver version is?\n",
    "# chromedriver.exe copied to path.\n",
    "executable_path = {'executable_path': 'chromedriver.exe'}\n",
    "browser = Browser('chrome', **executable_path, headless=False)"
   ]
  },
  {
   "cell_type": "markdown",
   "metadata": {},
   "source": [
    "## NASA Mars News\n",
    "* Scrape the NASA Mars News Site and collect the latest News Title and Paragraph Text. Assign the text to variables that you can reference later.\n",
    "\n",
    "* https://mars.nasa.gov/news/?page=0&per_page=40&order=publish_date+desc%2Ccreated_at+desc&search=&category=19%2C165%2C184%2C204&blank_scope=Latest\n",
    "\n",
    "### Example:\n",
    "* `news_title = \"NASA's Next Mars Mission to Investigate Interior of Red Planet\"`\n",
    "\n",
    "* `news_p = \"Preparation of NASA's next spacecraft to Mars, InSight, has ramped up this summer, on course for launch next May from Vandenberg Air Force Base in central California -- the first interplanetary launch in history from America's West Coast.\"`"
   ]
  },
  {
   "cell_type": "code",
   "execution_count": 3,
   "metadata": {},
   "outputs": [
    {
     "name": "stdout",
     "output_type": "stream",
     "text": [
      "https://mars.nasa.gov/news/?page=0&per_page=40&order=publish_date+desc%2Ccreated_at+desc&search=&category=19%2C165%2C184%2C204&blank_scope=Latest\n"
     ]
    }
   ],
   "source": [
    "url_news = 'https://mars.nasa.gov/news/?page=0&per_page=40&order=publish_date+desc%2Ccreated_at+desc&search=&category=19%2C165%2C184%2C204&blank_scope=Latest'\n",
    "print(url_news)\n",
    "\n",
    "# NB!!! Make sure getting the page that has descending order.\n",
    "# <ul class=\"item_list \">\n",
    "# <li class=\"slide\">\n",
    "# <div class=\"image_and_description_container\"><a href=\"/news/8522/nasas-curiosity-rover-finds-an-ancient-oasis-on-mars/\" target=\"_self\"><div class=\"rollover_description\"><div class=\"rollover_description_inner\">New evidence suggests salty, shallow ponds once dotted a Martian crater — a sign of the planet's drying climate.</div><div class=\"overlay_arrow\"><img src=\"/assets/overlay-arrow.png\" alt=\"More\"></div></div><div class=\"list_image\"><img src=\"/system/news_items/list_view_images/8522_PIA21261-320x240.jpg\" alt=\"The network of cracks in this Martian rock slab called &quot;Old Soaker&quot; may have formed from the drying of a mud layer more than 3 billion years ago. \"></div><div class=\"bottom_gradient\"><div><h3>NASA's Curiosity Rover Finds an Ancient Oasis on Mars</h3></div></div></a><div class=\"list_text\"><div class=\"list_date\">October  7, 2019</div><div class=\"content_title\"><a href=\"/news/8522/nasas-curiosity-rover-finds-an-ancient-oasis-on-mars/\" target=\"_self\">NASA's Curiosity Rover Finds an Ancient Oasis on Mars</a></div><div class=\"article_teaser_body\">New evidence suggests salty, shallow ponds once dotted a Martian crater — a sign of the planet's drying climate.</div></div></div></li><li class=\"slide\"><div class=\"image_and_description_container\"><a href=\"/news/8520/nasas-mars-2020-rover-tests-descent-stage-separation/\" target=\"_self\"><div class=\"rollover_description\"><div class=\"rollover_description_inner\">A crane lifts the rocket-powered descent stage away from NASA's Mars 2020 rover after technicians tested the pyrotechnic charges that separate the two spacecraft.</div><div class=\"overlay_arrow\"><img src=\"/assets/overlay-arrow.png\" alt=\"More\"></div></div><div class=\"list_image\"><img src=\"/system/news_items/list_view_images/8520_PIA23466-226.jpg\" alt=\"Engineers and technicians working on the Mars 2020 spacecraft, look on as a crane lifts the rocket-powered descent stage away from the rover after a test. \"></div><div class=\"bottom_gradient\"><div><h3>NASA's Mars 2020 Rover Tests Descent-Stage Separation</h3></div></div></a><div class=\"list_text\"><div class=\"list_date\">October  4, 2019</div><div class=\"content_title\"><a href=\"/news/8520/nasas-mars-2020-rover-tests-descent-stage-separation/\" target=\"_self\">NASA's Mars 2020 Rover Tests Descent-Stage Separation</a></div><div class=\"article_teaser_body\">A crane lifts the rocket-powered descent stage away from NASA's Mars 2020 rover after technicians tested the pyrotechnic charges that separate the two spacecraft.</div></div></div></li><li class=\"slide\"><div class=\"image_and_description_container\"><a href=\"/news/8518/nasas-push-to-save-the-mars-insight-landers-heat-probe/\" target=\"_self\"><div class=\"rollover_description\"><div class=\"rollover_description_inner\">The scoop on the end of the spacecraft's robotic arm will be used to 'pin' the mole against the wall of its hole.</div><div class=\"overlay_arrow\"><img src=\"/assets/overlay-arrow.png\" alt=\"More\"></div></div><div class=\"list_image\"><img src=\"/system/news_items/list_view_images/8518_PIA23373-320x240.gif\" alt=\"InSight's robotic arm will use its scoop to pin the spacecraft's heat probe, or &quot;mole,&quot; against the wall of its hole.\"></div><div class=\"bottom_gradient\"><div><h3>NASA's Push to Save the Mars InSight Lander's Heat Probe</h3></div></div></a><div class=\"list_text\"><div class=\"list_date\">October  3, 2019</div><div class=\"content_title\"><a href=\"/news/8518/nasas-push-to-save-the-mars-insight-landers-heat-probe/\" target=\"_self\">NASA's Push to Save the Mars InSight Lander's Heat Probe</a></div><div class=\"article_teaser_body\">The scoop on the end of the spacecraft's robotic arm will be used to 'pin' the mole against the wall of its hole.</div></div></div></li><li class=\"slide\"><div class=\"image_and_description_container\"><a href=\"/news/8517/nasas-insight-hears-peculiar-sounds-on-mars/\" target=\"_self\"><div class=\"rollover_description\"><div class=\"rollover_description_inner\">Listen to the marsquakes and other, less-expected sounds that the Mars lander has been detecting.</div><div class=\"overlay_arrow\"><img src=\"/assets/overlay-arrow.png\" alt=\"More\"></div></div><div class=\"list_image\"><img src=\"/system/news_items/list_view_images/8517_PIA23180-226.gif\" alt=\"Clouds drift over the dome-covered seismometer, known as SEIS, belonging to NASA's InSight lander, on Mars.\"></div><div class=\"bottom_gradient\"><div><h3>NASA's InSight 'Hears' Peculiar Sounds on Mars</h3></div></div></a><div class=\"list_text\"><div class=\"list_date\">October  1, 2019</div><div class=\"content_title\"><a href=\"/news/8517/nasas-insight-hears-peculiar-sounds-on-mars/\" target=\"_self\">NASA's InSight 'Hears' Peculiar Sounds on Mars</a></div><div class=\"article_teaser_body\">Listen to the marsquakes and other, less-expected sounds that the Mars lander has been detecting.</div></div></div></li><li class=\"slide\"><div class=\"image_and_description_container\"><a href=\"/news/8512/nasa-mars-mission-connects-with-bosnian-and-herzegovinian-town/\" target=\"_self\"><div class=\"rollover_description\"><div class=\"rollover_description_inner\">A letter from NASA was presented to the mayor of Jezero, Bosnia-Herzegovina, honoring the connection between the town and Jezero Crater, the Mars 2020 rover landing site.</div><div class=\"overlay_arrow\"><img src=\"/assets/overlay-arrow.png\" alt=\"More\"></div></div><div class=\"list_image\"><img src=\"/system/news_items/list_view_images/8512_PIA23463-320x240.jpg\" alt=\"In this picture, Ružičić snaps a selfie of the ambassador with local schooldren. \"></div><div class=\"bottom_gradient\"><div><h3>NASA Mars Mission Connects With Bosnian and Herzegovinian Town</h3></div></div></a><div class=\"list_text\"><div class=\"list_date\">September 23, 2019</div><div class=\"content_title\"><a href=\"/news/8512/nasa-mars-mission-connects-with-bosnian-and-herzegovinian-town/\" target=\"_self\">NASA Mars Mission Connects With Bosnian and Herzegovinian Town</a></div><div class=\"article_teaser_body\">A letter from NASA was presented to the mayor of Jezero, Bosnia-Herzegovina, honoring the connection between the town and Jezero Crater, the Mars 2020 rover landing site.</div></div></div></li><li class=\"slide\"><div class=\"image_and_description_container\"><a href=\"/news/8511/deadline-closing-for-names-to-fly-on-nasas-next-mars-rover/\" target=\"_self\"><div class=\"rollover_description\"><div class=\"rollover_description_inner\">You have until Sept. 30 to send your names to Mars aboard the Mars 2020 rover. </div><div class=\"overlay_arrow\"><img src=\"/assets/overlay-arrow.png\" alt=\"More\"></div></div><div class=\"list_image\"><img src=\"/system/news_items/list_view_images/8511_PIA23279-226.jpg\" alt=\"The actor Brad Pitt (right) shows off his &quot;boarding pass&quot; for Mars with Jennifer Trosper (left), the Mars 2020 project systems engineer, at JPL on Sept. 6, 2019. \"></div><div class=\"bottom_gradient\"><div><h3>Deadline Closing for Names to Fly on NASA's Next Mars Rover</h3></div></div></a><div class=\"list_text\"><div class=\"list_date\">September 18, 2019</div><div class=\"content_title\"><a href=\"/news/8511/deadline-closing-for-names-to-fly-on-nasas-next-mars-rover/\" target=\"_self\">Deadline Closing for Names to Fly on NASA's Next Mars Rover</a></div><div class=\"article_teaser_body\">You have until Sept. 30 to send your names to Mars aboard the Mars 2020 rover. </div></div></div></li><li class=\"slide\"><div class=\"image_and_description_container\"><a href=\"/news/8510/nasa-wins-two-emmy-awards-for-interactive-mission-coverage/\" target=\"_self\"><div class=\"rollover_description\"><div class=\"rollover_description_inner\">NASA-JPL's coverage of the Mars InSight landing earns one of the two wins, making this the NASA center's second Emmy.</div><div class=\"overlay_arrow\"><img src=\"/assets/overlay-arrow.png\" alt=\"More\"></div></div><div class=\"list_image\"><img src=\"/system/news_items/list_view_images/8510_emmy20190916-32x24.jpg\" alt=\"JPL team members with JPL deputy director Larry James at the 2019 Creative Arts Emmy Awards on Sunday, Sept. 15, 2019\"></div><div class=\"bottom_gradient\"><div><h3>NASA Wins Two Emmy Awards for Interactive Mission Coverage</h3></div></div></a><div class=\"list_text\"><div class=\"list_date\">September 16, 2019</div><div class=\"content_title\"><a href=\"/news/8510/nasa-wins-two-emmy-awards-for-interactive-mission-coverage/\" target=\"_self\">NASA Wins Two Emmy Awards for Interactive Mission Coverage</a></div><div class=\"article_teaser_body\">NASA-JPL's coverage of the Mars InSight landing earns one of the two wins, making this the NASA center's second Emmy.</div></div></div></li><li class=\"slide\"><div class=\"image_and_description_container\"><a href=\"/news/8509/nasas-mars-2020-comes-full-circle/\" target=\"_self\"><div class=\"rollover_description\"><div class=\"rollover_description_inner\">Aiming to pinpoint the Martian vehicle's center of gravity, engineers took NASA's 2,300-pound Mars 2020 rover for a spin in the clean room at JPL. </div><div class=\"overlay_arrow\"><img src=\"/assets/overlay-arrow.png\" alt=\"More\"></div></div><div class=\"list_image\"><img src=\"/system/news_items/list_view_images/8509_PIA23461-226.jpg\" alt=\"In search of its center of gravity, engineers took NASA's 2,300-pound Mars 2020 for a clean room spin on Aug. 29, 2019.\"></div><div class=\"bottom_gradient\"><div><h3>NASA's Mars 2020 Comes Full Circle</h3></div></div></a><div class=\"list_text\"><div class=\"list_date\">September 12, 2019</div><div class=\"content_title\"><a href=\"/news/8509/nasas-mars-2020-comes-full-circle/\" target=\"_self\">NASA's Mars 2020 Comes Full Circle</a></div><div class=\"article_teaser_body\">Aiming to pinpoint the Martian vehicle's center of gravity, engineers took NASA's 2,300-pound Mars 2020 rover for a spin in the clean room at JPL. </div></div></div></li><li class=\"slide\"><div class=\"image_and_description_container\"><a href=\"/news/8508/nasa-invites-students-to-name-mars-2020-rover/\" target=\"_self\"><div class=\"rollover_description\"><div class=\"rollover_description_inner\">Through Nov. 1, K-12 students in the U.S. are encouraged to enter an essay contest to name NASA's next Mars rover.</div><div class=\"overlay_arrow\"><img src=\"/assets/overlay-arrow.png\" alt=\"More\"></div></div><div class=\"list_image\"><img src=\"/system/news_items/list_view_images/8508_Name_A_unannotated_MAIN-th.jpg\" alt=\"The Mars 2020 Rover is preparing to launch to the Red Planet in July 2020, but it doesn't have a name yet. We're asking K-12 students across the United States to send in essays with their best name ideas by Nov. 1, 2019. \"></div><div class=\"bottom_gradient\"><div><h3>NASA Invites Students to Name Mars 2020 Rover</h3></div></div></a><div class=\"list_text\"><div class=\"list_date\">August 28, 2019</div><div class=\"content_title\"><a href=\"/news/8508/nasa-invites-students-to-name-mars-2020-rover/\" target=\"_self\">NASA Invites Students to Name Mars 2020 Rover</a></div><div class=\"article_teaser_body\">Through Nov. 1, K-12 students in the U.S. are encouraged to enter an essay contest to name NASA's next Mars rover.</div></div></div></li><li class=\"slide\"><div class=\"image_and_description_container\"><a href=\"/news/8507/nasas-mars-helicopter-attached-to-mars-2020-rover/\" target=\"_self\"><div class=\"rollover_description\"><div class=\"rollover_description_inner\">The helicopter will be first aircraft to perform flight tests on another planet.</div><div class=\"overlay_arrow\"><img src=\"/assets/overlay-arrow.png\" alt=\"More\"></div></div><div class=\"list_image\"><img src=\"/system/news_items/list_view_images/8507_PIA23152-320x240.jpg\" alt=\"Engineers attached NASA's Mars Helicopter (circled in red) to the belly of the Mars 2020 rover.\"></div><div class=\"bottom_gradient\"><div><h3>NASA's Mars Helicopter Attached to Mars 2020 Rover </h3></div></div></a><div class=\"list_text\"><div class=\"list_date\">August 28, 2019</div><div class=\"content_title\"><a href=\"/news/8507/nasas-mars-helicopter-attached-to-mars-2020-rover/\" target=\"_self\">NASA's Mars Helicopter Attached to Mars 2020 Rover </a></div><div class=\"article_teaser_body\">The helicopter will be first aircraft to perform flight tests on another planet.</div></div></div></li><li class=\"slide\"><div class=\"image_and_description_container\"><a href=\"/news/8506/whats-mars-solar-conjunction-and-why-does-it-matter/\" target=\"_self\"><div class=\"rollover_description\"><div class=\"rollover_description_inner\">NASA spacecraft at Mars are going to be on their own for a few weeks when the Sun comes between Mars and Earth, interrupting communications.</div><div class=\"overlay_arrow\"><img src=\"/assets/overlay-arrow.png\" alt=\"More\"></div></div><div class=\"list_image\"><img src=\"/system/news_items/list_view_images/8506_mars-solar-conjunction-th.jpg\" alt=\"This animation illustrates Mars solar conjunction, a period when Mars is on the opposite side of the Sun from Earth. During this time, the Sun can interrupt radio transmissions to spacecraft on and around the Red Planet.\"></div><div class=\"bottom_gradient\"><div><h3>What's Mars Solar Conjunction, and Why Does It Matter?</h3></div></div></a><div class=\"list_text\"><div class=\"list_date\">August 23, 2019</div><div class=\"content_title\"><a href=\"/news/8506/whats-mars-solar-conjunction-and-why-does-it-matter/\" target=\"_self\">What's Mars Solar Conjunction, and Why Does It Matter?</a></div><div class=\"article_teaser_body\">NASA spacecraft at Mars are going to be on their own for a few weeks when the Sun comes between Mars and Earth, interrupting communications.</div></div></div></li><li class=\"slide\"><div class=\"image_and_description_container\"><a href=\"/news/8505/scientists-explore-outback-as-testbed-for-mars/\" target=\"_self\"><div class=\"rollover_description\"><div class=\"rollover_description_inner\">Australia provides a great place for NASA's Mars 2020 and the ESA-Roscosmos ExoMars scientists to hone techniques in preparation for searching for signs ancient life on Mars.</div><div class=\"overlay_arrow\"><img src=\"/assets/overlay-arrow.png\" alt=\"More\"></div></div><div class=\"list_image\"><img src=\"/system/news_items/list_view_images/8505_PIA23275-th.jpg\" alt=\"\"></div><div class=\"bottom_gradient\"><div><h3>Scientists Explore Outback as Testbed for Mars </h3></div></div></a><div class=\"list_text\"><div class=\"list_date\">August 23, 2019</div><div class=\"content_title\"><a href=\"/news/8505/scientists-explore-outback-as-testbed-for-mars/\" target=\"_self\">Scientists Explore Outback as Testbed for Mars </a></div><div class=\"article_teaser_body\">Australia provides a great place for NASA's Mars 2020 and the ESA-Roscosmos ExoMars scientists to hone techniques in preparation for searching for signs ancient life on Mars.</div></div></div></li><li class=\"slide\"><div class=\"image_and_description_container\"><a href=\"/news/8504/nasa-jpl-names-rolling-stones-rock-on-mars/\" target=\"_self\"><div class=\"rollover_description\"><div class=\"rollover_description_inner\">NASA's Mars InSight mission honored one of the biggest bands of all time at Pasadena concert.</div><div class=\"overlay_arrow\"><img src=\"/assets/overlay-arrow.png\" alt=\"More\"></div></div><div class=\"list_image\"><img src=\"/system/news_items/list_view_images/8504_insight20190822-226.gif\" alt=\"This animation illustrates NASA's InSight lander touching down on Mars, its thrusters setting a rock in motion. A little bigger than a golf ball, the rock was later nicknamed &quot;Rolling Stones Rock&quot; by the InSight team in honor of The Rolling Stones.\"></div><div class=\"bottom_gradient\"><div><h3>NASA-JPL Names 'Rolling Stones Rock' on Mars</h3></div></div></a><div class=\"list_text\"><div class=\"list_date\">August 22, 2019</div><div class=\"content_title\"><a href=\"/news/8504/nasa-jpl-names-rolling-stones-rock-on-mars/\" target=\"_self\">NASA-JPL Names 'Rolling Stones Rock' on Mars</a></div><div class=\"article_teaser_body\">NASA's Mars InSight mission honored one of the biggest bands of all time at Pasadena concert.</div></div></div></li><li class=\"slide\"><div class=\"image_and_description_container\"><a href=\"/news/8503/robotic-toolkit-added-to-nasas-mars-2020-rover/\" target=\"_self\"><div class=\"rollover_description\"><div class=\"rollover_description_inner\">The bit carousel, which lies at the heart of the rover's Sample Caching System, is now aboard NASA's newest rover. </div><div class=\"overlay_arrow\"><img src=\"/assets/overlay-arrow.png\" alt=\"More\"></div></div><div class=\"list_image\"><img src=\"/system/news_items/list_view_images/8503_PIA23319-MAIN-226.jpg\" alt=\"The heart of sampling and caching subsystem of NASA’s Mars 2020 mission -  is attached to the front end of the rover.\"></div><div class=\"bottom_gradient\"><div><h3>Robotic Toolkit Added to NASA's Mars 2020 Rover</h3></div></div></a><div class=\"list_text\"><div class=\"list_date\">August 15, 2019</div><div class=\"content_title\"><a href=\"/news/8503/robotic-toolkit-added-to-nasas-mars-2020-rover/\" target=\"_self\">Robotic Toolkit Added to NASA's Mars 2020 Rover</a></div><div class=\"article_teaser_body\">The bit carousel, which lies at the heart of the rover's Sample Caching System, is now aboard NASA's newest rover. </div></div></div></li><li class=\"slide\"><div class=\"image_and_description_container\"><a href=\"/news/8502/space-samples-link-nasas-apollo-11-and-mars-2020/\" target=\"_self\"><div class=\"rollover_description\"><div class=\"rollover_description_inner\">While separated by half a century, NASA's Apollo 11 and Mars 2020 missions share the same historic goal: returning samples to Earth.</div><div class=\"overlay_arrow\"><img src=\"/assets/overlay-arrow.png\" alt=\"More\"></div></div><div class=\"list_image\"><img src=\"/system/news_items/list_view_images/8502_apollo-mars2020-20190809-th.jpg\" alt=\"From left to right: Apollo 11 astronaut Buzz Aldrin stands on the Moon; 47 pounds (21.5 kilograms) of samples were brought back to Earth from that mission; the Mars 2020 rover, seen here in an artist's concept rover, will be taking the first planetary samples at Jezero Crater, Mars (on right). \"></div><div class=\"bottom_gradient\"><div><h3>Space Samples Link NASA's Apollo 11 and Mars 2020</h3></div></div></a><div class=\"list_text\"><div class=\"list_date\">August 13, 2019</div><div class=\"content_title\"><a href=\"/news/8502/space-samples-link-nasas-apollo-11-and-mars-2020/\" target=\"_self\">Space Samples Link NASA's Apollo 11 and Mars 2020</a></div><div class=\"article_teaser_body\">While separated by half a century, NASA's Apollo 11 and Mars 2020 missions share the same historic goal: returning samples to Earth.</div></div></div></li><li class=\"slide\"><div class=\"image_and_description_container\"><a href=\"/news/8501/small-satellite-mission-of-the-year/\" target=\"_self\"><div class=\"rollover_description\"><div class=\"rollover_description_inner\">The first interplanetary CubeSats were recognized by the engineering community with the 2019 Small Satellite Mission of the Year award.</div><div class=\"overlay_arrow\"><img src=\"/assets/overlay-arrow.png\" alt=\"More\"></div></div><div class=\"list_image\"><img src=\"/system/news_items/list_view_images/8501_21555_PIA22314_320.jpg\" alt=\"An artist's rendering of the twin Mars Cube One (MarCO) spacecraft as they fly through deep space.\"></div><div class=\"bottom_gradient\"><div><h3>Small Satellite Mission of the Year</h3></div></div></a><div class=\"list_text\"><div class=\"list_date\">August  9, 2019</div><div class=\"content_title\"><a href=\"/news/8501/small-satellite-mission-of-the-year/\" target=\"_self\">Small Satellite Mission of the Year</a></div><div class=\"article_teaser_body\">The first interplanetary CubeSats were recognized by the engineering community with the 2019 Small Satellite Mission of the Year award.</div></div></div></li><li class=\"slide\"><div class=\"image_and_description_container\"><a href=\"/news/8499/nasa-optometrists-verify-mars-2020-rovers-2020-vision/\" target=\"_self\"><div class=\"rollover_description\"><div class=\"rollover_description_inner\">Mars 2020 rover underwent an eye exam after several cameras were installed on the rover.</div><div class=\"overlay_arrow\"><img src=\"/assets/overlay-arrow.png\" alt=\"More\"></div></div><div class=\"list_image\"><img src=\"/system/news_items/list_view_images/8499_PIA23314-th.jpg\" alt=\"In this image, engineers test cameras on the top of the Mars 2020 rover’s mast and front chassis. The image was taken on July 23, 2019, in the Spacecraft Assembly Facility's High Bay 1 at NASA's Jet Propulsion Laboratory in Pasadena, California.\"></div><div class=\"bottom_gradient\"><div><h3>NASA 'Optometrists' Verify Mars 2020 Rover's 20/20 Vision</h3></div></div></a><div class=\"list_text\"><div class=\"list_date\">August  5, 2019</div><div class=\"content_title\"><a href=\"/news/8499/nasa-optometrists-verify-mars-2020-rovers-2020-vision/\" target=\"_self\">NASA 'Optometrists' Verify Mars 2020 Rover's 20/20 Vision</a></div><div class=\"article_teaser_body\">Mars 2020 rover underwent an eye exam after several cameras were installed on the rover.</div></div></div></li><li class=\"slide\"><div class=\"image_and_description_container\"><a href=\"/news/8498/new-finds-for-mars-rover-seven-years-after-landing/\" target=\"_self\"><div class=\"rollover_description\"><div class=\"rollover_description_inner\">NASA's Curiosity rover is discovering odd rocks halfway into a region called the \"clay-bearing unit.\"</div><div class=\"overlay_arrow\"><img src=\"/assets/overlay-arrow.png\" alt=\"More\"></div></div><div class=\"list_image\"><img src=\"/system/news_items/list_view_images/8498_PIA23346-th.jpg\" alt=\"This panorama of a location called &quot;Teal Ridge&quot; was captured on Mars by the Mast Camera, or Mastcam, on NASA's Curiosity rover on June 18, 2019, the 2,440th Martian day, or sol, of the mission.\"></div><div class=\"bottom_gradient\"><div><h3>New Finds for Mars Rover, Seven Years After Landing</h3></div></div></a><div class=\"list_text\"><div class=\"list_date\">August  5, 2019</div><div class=\"content_title\"><a href=\"/news/8498/new-finds-for-mars-rover-seven-years-after-landing/\" target=\"_self\">New Finds for Mars Rover, Seven Years After Landing</a></div><div class=\"article_teaser_body\">NASA's Curiosity rover is discovering odd rocks halfway into a region called the \"clay-bearing unit.\"</div></div></div></li><li class=\"slide\"><div class=\"image_and_description_container\"><a href=\"/news/8497/medli2-installation-on-mars-2020-aeroshell-begins/\" target=\"_self\"><div class=\"rollover_description\"><div class=\"rollover_description_inner\">Hardware installed onto NASA's Mars 2020 entry vehicle this week will help to increase the safety of future Mars landings.</div><div class=\"overlay_arrow\"><img src=\"/assets/overlay-arrow.png\" alt=\"More\"></div></div><div class=\"list_image\"><img src=\"/system/news_items/list_view_images/8497_medli-16-th.jpg\" alt=\"Vibration testing of the MEDLI2 primary electronics box was successfully completed recently at NASA’s Langley Research Center in Hampton, Virginia. Flight hardware is being shipped and installed on the Mars 2020 entry vehicle in preparation for next year’s launch. \"></div><div class=\"bottom_gradient\"><div><h3>MEDLI2 Installation on Mars 2020 Aeroshell Begins</h3></div></div></a><div class=\"list_text\"><div class=\"list_date\">August  3, 2019</div><div class=\"content_title\"><a href=\"/news/8497/medli2-installation-on-mars-2020-aeroshell-begins/\" target=\"_self\">MEDLI2 Installation on Mars 2020 Aeroshell Begins</a></div><div class=\"article_teaser_body\">Hardware installed onto NASA's Mars 2020 entry vehicle this week will help to increase the safety of future Mars landings.</div></div></div></li><li class=\"slide\"><div class=\"image_and_description_container\"><a href=\"/news/8496/nasas-mars-2020-rover-does-biceps-curls/\" target=\"_self\"><div class=\"rollover_description\"><div class=\"rollover_description_inner\">In this time-lapse video, the robotic arm on NASA's Mars 2020 rover maneuvers its 88-pound (40-kilogram) sensor-laden turret as it moves from a deployed to stowed configuration.</div><div class=\"overlay_arrow\"><img src=\"/assets/overlay-arrow.png\" alt=\"More\"></div></div><div class=\"list_image\"><img src=\"/system/news_items/list_view_images/8496_PIA23212-th.jpg\" alt=\"\"></div><div class=\"bottom_gradient\"><div><h3>NASA's Mars 2020 Rover Does Biceps Curls </h3></div></div></a><div class=\"list_text\"><div class=\"list_date\">July 26, 2019</div><div class=\"content_title\"><a href=\"/news/8496/nasas-mars-2020-rover-does-biceps-curls/\" target=\"_self\">NASA's Mars 2020 Rover Does Biceps Curls </a></div><div class=\"article_teaser_body\">In this time-lapse video, the robotic arm on NASA's Mars 2020 rover maneuvers its 88-pound (40-kilogram) sensor-laden turret as it moves from a deployed to stowed configuration.</div></div></div></li><li class=\"slide\"><div class=\"image_and_description_container\"><a href=\"/news/8495/fueling-of-nasas-mars-2020-rover-power-system-begins/\" target=\"_self\"><div class=\"rollover_description\"><div class=\"rollover_description_inner\">NASA gives the go-ahead to fuel the Mars 2020 rover's Multi-Mission Radioisotope Thermoelectric Generator, which will power rover and help keep it warm while exploring Mars.</div><div class=\"overlay_arrow\"><img src=\"/assets/overlay-arrow.png\" alt=\"More\"></div></div><div class=\"list_image\"><img src=\"/system/news_items/list_view_images/8495_PIA23305-th.jpg\" alt=\"The electricity for NASA's Mars 2020 rover is provided by a power system called a Multi-Mission Radioisotope Thermoelectric Generator, or MMRTG. The MMRTG will be inserted into the aft end of the rover between the panels with gold tubing visible at the rear, which are called heat exchangers. \"></div><div class=\"bottom_gradient\"><div><h3>Fueling of NASA's Mars 2020 Rover Power System Begins</h3></div></div></a><div class=\"list_text\"><div class=\"list_date\">July 24, 2019</div><div class=\"content_title\"><a href=\"/news/8495/fueling-of-nasas-mars-2020-rover-power-system-begins/\" target=\"_self\">Fueling of NASA's Mars 2020 Rover Power System Begins</a></div><div class=\"article_teaser_body\">NASA gives the go-ahead to fuel the Mars 2020 rover's Multi-Mission Radioisotope Thermoelectric Generator, which will power rover and help keep it warm while exploring Mars.</div></div></div></li><li class=\"slide\"><div class=\"image_and_description_container\"><a href=\"/news/8494/what-does-a-marsquake-look-like/\" target=\"_self\"><div class=\"rollover_description\"><div class=\"rollover_description_inner\">InSight scientists used a special \"shake room\" to demonstrate the differences between quakes on Earth, the Moon and Mars.</div><div class=\"overlay_arrow\"><img src=\"/assets/overlay-arrow.png\" alt=\"More\"></div></div><div class=\"list_image\"><img src=\"/system/news_items/list_view_images/8494_PIA2344-226.jpg\" alt=\"Artist's concept is a simulation of what seismic waves from a marsquake might look like\"></div><div class=\"bottom_gradient\"><div><h3>What Does a Marsquake Look Like?</h3></div></div></a><div class=\"list_text\"><div class=\"list_date\">July 22, 2019</div><div class=\"content_title\"><a href=\"/news/8494/what-does-a-marsquake-look-like/\" target=\"_self\">What Does a Marsquake Look Like?</a></div><div class=\"article_teaser_body\">InSight scientists used a special \"shake room\" to demonstrate the differences between quakes on Earth, the Moon and Mars.</div></div></div></li><li class=\"slide\"><div class=\"image_and_description_container\"><a href=\"/news/8461/mars-2020-rover-t-minus-one-year-and-counting/\" target=\"_self\"><div class=\"rollover_description\"><div class=\"rollover_description_inner\">The launch period for NASA's next rover, Mars 2020, opens exactly one year from today, July 17, 2020, and extends through Aug. 5, 2020.</div><div class=\"overlay_arrow\"><img src=\"/assets/overlay-arrow.png\" alt=\"More\"></div></div><div class=\"list_image\"><img src=\"/system/news_items/list_view_images/8461_PIA23311-th.jpg\" alt=\"Engineers at JPL install a sensor-filled turret on the end of the rover's seven-foot-long (2.1-meter-long) robotic arm.\"></div><div class=\"bottom_gradient\"><div><h3>Mars 2020 Rover: T-Minus One Year and Counting </h3></div></div></a><div class=\"list_text\"><div class=\"list_date\">July 17, 2019</div><div class=\"content_title\"><a href=\"/news/8461/mars-2020-rover-t-minus-one-year-and-counting/\" target=\"_self\">Mars 2020 Rover: T-Minus One Year and Counting </a></div><div class=\"article_teaser_body\">The launch period for NASA's next rover, Mars 2020, opens exactly one year from today, July 17, 2020, and extends through Aug. 5, 2020.</div></div></div></li><li class=\"slide\"><div class=\"image_and_description_container\"><a href=\"/news/8460/nasa-racks-up-two-emmy-nominations-for-mission-coverage/\" target=\"_self\"><div class=\"rollover_description\"><div class=\"rollover_description_inner\">JPL's coverage of the Mars InSight mission is among the efforts that will be up for an award in mid-September.</div><div class=\"overlay_arrow\"><img src=\"/assets/overlay-arrow.png\" alt=\"More\"></div></div><div class=\"list_image\"><img src=\"/system/news_items/list_view_images/8460_list_image.jpg\" alt=\"reactions after receiving confirmation that the spacecraft successfully touched down on the surface of Mars\"></div><div class=\"bottom_gradient\"><div><h3>NASA Racks Up Two Emmy Nominations for Mission Coverage</h3></div></div></a><div class=\"list_text\"><div class=\"list_date\">July 16, 2019</div><div class=\"content_title\"><a href=\"/news/8460/nasa-racks-up-two-emmy-nominations-for-mission-coverage/\" target=\"_self\">NASA Racks Up Two Emmy Nominations for Mission Coverage</a></div><div class=\"article_teaser_body\">JPL's coverage of the Mars InSight mission is among the efforts that will be up for an award in mid-September.</div></div></div></li><li class=\"slide\"><div class=\"image_and_description_container\"><a href=\"/news/8459/want-to-colonize-mars-aerogel-could-help/\" target=\"_self\"><div class=\"rollover_description\"><div class=\"rollover_description_inner\">Researchers are studying whether a wonder material used in Mars rovers could help warm parts of the Red Planet rich in water ice.</div><div class=\"overlay_arrow\"><img src=\"/assets/overlay-arrow.png\" alt=\"More\"></div></div><div class=\"list_image\"><img src=\"/system/news_items/list_view_images/8459_PIA23343-320x240.jpg\" alt=\"Scientists are exploring how aerogel, a translucent, Styrofoam-like material, could be used as a building material on Mars.\"></div><div class=\"bottom_gradient\"><div><h3>Want to Colonize Mars? Aerogel Could Help</h3></div></div></a><div class=\"list_text\"><div class=\"list_date\">July 15, 2019</div><div class=\"content_title\"><a href=\"/news/8459/want-to-colonize-mars-aerogel-could-help/\" target=\"_self\">Want to Colonize Mars? Aerogel Could Help</a></div><div class=\"article_teaser_body\">Researchers are studying whether a wonder material used in Mars rovers could help warm parts of the Red Planet rich in water ice.</div></div></div></li><li class=\"slide\"><div class=\"image_and_description_container\"><a href=\"/news/8458/a-rover-pit-stop-at-jpl/\" target=\"_self\"><div class=\"rollover_description\"><div class=\"rollover_description_inner\">Working like a finely honed machine, a team of engineers in this time-lapse video clip install test wheels on another finely honed machine: NASA's Mars 2020 rover.</div><div class=\"overlay_arrow\"><img src=\"/assets/overlay-arrow.png\" alt=\"More\"></div></div><div class=\"list_image\"><img src=\"/system/news_items/list_view_images/8458_rover-time-lapse-th.jpg\" alt=\"A team of engineers at NASA's Jet Propulsion Laboratory in Pasadena, California, install the legs and wheels — otherwise known as the mobility suspension — on the Mars 2020 rover.\"></div><div class=\"bottom_gradient\"><div><h3>A Rover Pit Stop at JPL</h3></div></div></a><div class=\"list_text\"><div class=\"list_date\">July 12, 2019</div><div class=\"content_title\"><a href=\"/news/8458/a-rover-pit-stop-at-jpl/\" target=\"_self\">A Rover Pit Stop at JPL</a></div><div class=\"article_teaser_body\">Working like a finely honed machine, a team of engineers in this time-lapse video clip install test wheels on another finely honed machine: NASA's Mars 2020 rover.</div></div></div></li><li class=\"slide\"><div class=\"image_and_description_container\"><a href=\"/news/8457/mars-2020-rover-gets-a-super-instrument/\" target=\"_self\"><div class=\"rollover_description\"><div class=\"rollover_description_inner\">With its rock-zapping laser, the SuperCam will enable the science team to identify the chemical and mineral makeup of its targets on the Red Planet.</div><div class=\"overlay_arrow\"><img src=\"/assets/overlay-arrow.png\" alt=\"More\"></div></div><div class=\"list_image\"><img src=\"/system/news_items/list_view_images/8457_PIA23307-th.jpg\" alt=\"Engineers install the SuperCam instrument on Mars 2020's rover. This image was taken on June 25, 2019, in the Spacecraft Assembly Facility at NASA's Jet Propulsion Laboratory, Pasadena, California.\"></div><div class=\"bottom_gradient\"><div><h3>Mars 2020 Rover Gets a Super Instrument</h3></div></div></a><div class=\"list_text\"><div class=\"list_date\">July  2, 2019</div><div class=\"content_title\"><a href=\"/news/8457/mars-2020-rover-gets-a-super-instrument/\" target=\"_self\">Mars 2020 Rover Gets a Super Instrument</a></div><div class=\"article_teaser_body\">With its rock-zapping laser, the SuperCam will enable the science team to identify the chemical and mineral makeup of its targets on the Red Planet.</div></div></div></li><li class=\"slide\"><div class=\"image_and_description_container\"><a href=\"/news/8456/a-neil-armstrong-for-mars-landing-the-mars-2020-rover/\" target=\"_self\"><div class=\"rollover_description\"><div class=\"rollover_description_inner\">NASA's newest rover will have an autopilot called Terrain-Relative Navigation.</div><div class=\"overlay_arrow\"><img src=\"/assets/overlay-arrow.png\" alt=\"More\"></div></div><div class=\"list_image\"><img src=\"/system/news_items/list_view_images/8456_trn-th.jpg\" alt=\"\"></div><div class=\"bottom_gradient\"><div><h3>A Neil Armstrong for Mars: Landing the Mars 2020 Rover</h3></div></div></a><div class=\"list_text\"><div class=\"list_date\">July  1, 2019</div><div class=\"content_title\"><a href=\"/news/8456/a-neil-armstrong-for-mars-landing-the-mars-2020-rover/\" target=\"_self\">A Neil Armstrong for Mars: Landing the Mars 2020 Rover</a></div><div class=\"article_teaser_body\">NASA's newest rover will have an autopilot called Terrain-Relative Navigation.</div></div></div></li><li class=\"slide\"><div class=\"image_and_description_container\"><a href=\"/news/8455/nasas-insight-uncovers-the-mole/\" target=\"_self\"><div class=\"rollover_description\"><div class=\"rollover_description_inner\">The lander's robotic arm has successfully removed a piece of hardware blocking the view of its digging device in order to help with recovery efforts.</div><div class=\"overlay_arrow\"><img src=\"/assets/overlay-arrow.png\" alt=\"More\"></div></div><div class=\"list_image\"><img src=\"/system/news_items/list_view_images/8455_PIA23308-th.gif\" alt=\"On June 28, 2019, NASA's InSight lander used its robotic arm to move the support structure for its digging instrument, informally called the &quot;mole.&quot; This view was captured by the fisheye Instrument Context Camera under the lander's deck.\"></div><div class=\"bottom_gradient\"><div><h3>NASA's InSight Uncovers the 'Mole' </h3></div></div></a><div class=\"list_text\"><div class=\"list_date\">July  1, 2019</div><div class=\"content_title\"><a href=\"/news/8455/nasas-insight-uncovers-the-mole/\" target=\"_self\">NASA's InSight Uncovers the 'Mole' </a></div><div class=\"article_teaser_body\">The lander's robotic arm has successfully removed a piece of hardware blocking the view of its digging device in order to help with recovery efforts.</div></div></div></li><li class=\"slide\"><div class=\"image_and_description_container\"><a href=\"/news/8454/mars-2020-rovers-7-foot-long-robotic-arm-installed/\" target=\"_self\"><div class=\"rollover_description\"><div class=\"rollover_description_inner\">The main robotic arm has been installed on NASA's newest rover. When complete, the arm will enable the rover to hold and use science tools like a human geologist would.</div><div class=\"overlay_arrow\"><img src=\"/assets/overlay-arrow.png\" alt=\"More\"></div></div><div class=\"list_image\"><img src=\"/system/news_items/list_view_images/8454_PIA23227-th.jpg\" alt=\"On June 21, 2019, engineers at NASA's Jet Propulsion Laboratory install the main robotic arm on the Mars 2020 rover.\"></div><div class=\"bottom_gradient\"><div><h3>Mars 2020 Rover's 7-Foot-Long Robotic Arm Installed</h3></div></div></a><div class=\"list_text\"><div class=\"list_date\">June 28, 2019</div><div class=\"content_title\"><a href=\"/news/8454/mars-2020-rovers-7-foot-long-robotic-arm-installed/\" target=\"_self\">Mars 2020 Rover's 7-Foot-Long Robotic Arm Installed</a></div><div class=\"article_teaser_body\">The main robotic arm has been installed on NASA's newest rover. When complete, the arm will enable the rover to hold and use science tools like a human geologist would.</div></div></div></li><li class=\"slide\"><div class=\"image_and_description_container\"><a href=\"/news/8453/nasa-selects-partners-for-mars-2020-name-the-rover-contest-seeks-judges/\" target=\"_self\"><div class=\"rollover_description\"><div class=\"rollover_description_inner\">The contest for U.S. schoolchildren will open in fall 2019, but judges can sign up now.</div><div class=\"overlay_arrow\"><img src=\"/assets/overlay-arrow.png\" alt=\"More\"></div></div><div class=\"list_image\"><img src=\"/system/news_items/list_view_images/8453_Name_A_unannotated_MAIN-th.jpg\" alt=\"This cartoon depicts NASA's next Mars rover, which launches in 2020.\"></div><div class=\"bottom_gradient\"><div><h3>NASA Selects Partners for Mars 2020 'Name the Rover' Contest, Seeks Judges</h3></div></div></a><div class=\"list_text\"><div class=\"list_date\">June 25, 2019</div><div class=\"content_title\"><a href=\"/news/8453/nasa-selects-partners-for-mars-2020-name-the-rover-contest-seeks-judges/\" target=\"_self\">NASA Selects Partners for Mars 2020 'Name the Rover' Contest, Seeks Judges</a></div><div class=\"article_teaser_body\">The contest for U.S. schoolchildren will open in fall 2019, but judges can sign up now.</div></div></div></li><li class=\"slide\"><div class=\"image_and_description_container\"><a href=\"/news/8452/curiositys-mars-methane-mystery-continues/\" target=\"_self\"><div class=\"rollover_description\"><div class=\"rollover_description_inner\">The Curiosity rover’s follow-on sampling shows last week’s methane levels have sharply decreased.</div><div class=\"overlay_arrow\"><img src=\"/assets/overlay-arrow.png\" alt=\"More\"></div></div><div class=\"list_image\"><img src=\"/system/news_items/list_view_images/8452_methane_main-th.jpg\" alt=\"This image shows part of &quot;Teal Ridge,&quot; which the rover has been studying within a region called the &quot;clay-bearing unit.&quot;\"></div><div class=\"bottom_gradient\"><div><h3>Curiosity's Mars Methane Mystery Continues</h3></div></div></a><div class=\"list_text\"><div class=\"list_date\">June 24, 2019</div><div class=\"content_title\"><a href=\"/news/8452/curiositys-mars-methane-mystery-continues/\" target=\"_self\">Curiosity's Mars Methane Mystery Continues</a></div><div class=\"article_teaser_body\">The Curiosity rover’s follow-on sampling shows last week’s methane levels have sharply decreased.</div></div></div></li><li class=\"slide\"><div class=\"image_and_description_container\"><a href=\"/news/8451/mars-2020-rover-gets-its-wheels/\" target=\"_self\"><div class=\"rollover_description\"><div class=\"rollover_description_inner\">With the mobility suspension in place, the rover not only looks more like a rover but has many of its 'big-ticket items' installed.</div><div class=\"overlay_arrow\"><img src=\"/assets/overlay-arrow.png\" alt=\"More\"></div></div><div class=\"list_image\"><img src=\"/system/news_items/list_view_images/8451_pia23269-MAIN-th.jpg\" alt=\"Mars 2020 Gets Its Wheels\"></div><div class=\"bottom_gradient\"><div><h3>Mars 2020 Rover Gets Its Wheels</h3></div></div></a><div class=\"list_text\"><div class=\"list_date\">June 20, 2019</div><div class=\"content_title\"><a href=\"/news/8451/mars-2020-rover-gets-its-wheels/\" target=\"_self\">Mars 2020 Rover Gets Its Wheels</a></div><div class=\"article_teaser_body\">With the mobility suspension in place, the rover not only looks more like a rover but has many of its 'big-ticket items' installed.</div></div></div></li><li class=\"slide\"><div class=\"image_and_description_container\"><a href=\"/news/8450/the-mast-is-raised-for-nasas-mars-2020-rover/\" target=\"_self\"><div class=\"rollover_description\"><div class=\"rollover_description_inner\">Engineers at JPL take a group selfie after attaching the remote sensing mast to the Mars 2020 rover.</div><div class=\"overlay_arrow\"><img src=\"/assets/overlay-arrow.png\" alt=\"More\"></div></div><div class=\"list_image\"><img src=\"/system/news_items/list_view_images/8450_PIA23268-320x240.jpg\" alt=\"Engineers and technicians at NASA's Jet Propulsion Laboratory in Pasadena, California, install the remote sensing mast on the Mars 2020 rover.\"></div><div class=\"bottom_gradient\"><div><h3>The Mast Is Raised for NASA's Mars 2020 Rover</h3></div></div></a><div class=\"list_text\"><div class=\"list_date\">June 14, 2019</div><div class=\"content_title\"><a href=\"/news/8450/the-mast-is-raised-for-nasas-mars-2020-rover/\" target=\"_self\">The Mast Is Raised for NASA's Mars 2020 Rover</a></div><div class=\"article_teaser_body\">Engineers at JPL take a group selfie after attaching the remote sensing mast to the Mars 2020 rover.</div></div></div></li><li class=\"slide\"><div class=\"image_and_description_container\"><a href=\"/news/8449/nasas-mars-2020-will-blaze-a-trail-for-humans/\" target=\"_self\"><div class=\"rollover_description\"><div class=\"rollover_description_inner\">The next robotic Mars mission will carry technology that will help enable astronauts to eventually explore the Red Planet.</div><div class=\"overlay_arrow\"><img src=\"/assets/overlay-arrow.png\" alt=\"More\"></div></div><div class=\"list_image\"><img src=\"/system/news_items/list_view_images/8449_PIA23302-th.jpg\" alt=\"\"></div><div class=\"bottom_gradient\"><div><h3>NASA's Mars 2020 Will Blaze a Trail — for Humans</h3></div></div></a><div class=\"list_text\"><div class=\"list_date\">June 12, 2019</div><div class=\"content_title\"><a href=\"/news/8449/nasas-mars-2020-will-blaze-a-trail-for-humans/\" target=\"_self\">NASA's Mars 2020 Will Blaze a Trail — for Humans</a></div><div class=\"article_teaser_body\">The next robotic Mars mission will carry technology that will help enable astronauts to eventually explore the Red Planet.</div></div></div></li><li class=\"slide\"><div class=\"image_and_description_container\"><a href=\"/news/8448/johnson-built-device-to-help-mars-2020-rover-search-for-signs-of-life/\" target=\"_self\"><div class=\"rollover_description\"><div class=\"rollover_description_inner\">NASA’s Johnson Space Center (JSC) recently built a new calibration device for the rover to check SHERLOC’s function and properly tune it during the upcoming mission.</div><div class=\"overlay_arrow\"><img src=\"/assets/overlay-arrow.png\" alt=\"More\"></div></div><div class=\"list_image\"><img src=\"/system/news_items/list_view_images/8448_sherloc2-calibration-target-320x240.jpg\" alt=\"Mars 2020 SHERLOC Calibration Target\"></div><div class=\"bottom_gradient\"><div><h3>Johnson-Built Device to Help Mars 2020 Rover Search for Signs of Life</h3></div></div></a><div class=\"list_text\"><div class=\"list_date\">June 11, 2019</div><div class=\"content_title\"><a href=\"/news/8448/johnson-built-device-to-help-mars-2020-rover-search-for-signs-of-life/\" target=\"_self\">Johnson-Built Device to Help Mars 2020 Rover Search for Signs of Life</a></div><div class=\"article_teaser_body\">NASA’s Johnson Space Center (JSC) recently built a new calibration device for the rover to check SHERLOC’s function and properly tune it during the upcoming mission.</div></div></div></li><li class=\"slide\"><div class=\"image_and_description_container\"><a href=\"/news/8447/watch-nasa-build-its-next-mars-rover/\" target=\"_self\"><div class=\"rollover_description\"><div class=\"rollover_description_inner\">A newly installed webcam offers the public a live, bird's-eye view of NASA's Mars 2020 rover as it takes shape at NASA's Jet Propulsion Laboratory. </div><div class=\"overlay_arrow\"><img src=\"/assets/overlay-arrow.png\" alt=\"More\"></div></div><div class=\"list_image\"><img src=\"/system/news_items/list_view_images/8447_seeing_2020-th.jpg\" alt=\"The View from the &quot;Seeing 2020&quot; Webcam\"></div><div class=\"bottom_gradient\"><div><h3>Watch NASA Build Its Next Mars Rover</h3></div></div></a><div class=\"list_text\"><div class=\"list_date\">June  6, 2019</div><div class=\"content_title\"><a href=\"/news/8447/watch-nasa-build-its-next-mars-rover/\" target=\"_self\">Watch NASA Build Its Next Mars Rover</a></div><div class=\"article_teaser_body\">A newly installed webcam offers the public a live, bird's-eye view of NASA's Mars 2020 rover as it takes shape at NASA's Jet Propulsion Laboratory. </div></div></div></li><li class=\"slide\"><div class=\"image_and_description_container\"><a href=\"/news/8446/nasas-mars-helicopter-testing-enters-final-phase/\" target=\"_self\"><div class=\"rollover_description\"><div class=\"rollover_description_inner\">NASA's Mars Helicopter flight demonstration project has passed a number of key tests with flying colors.</div><div class=\"overlay_arrow\"><img src=\"/assets/overlay-arrow.png\" alt=\"More\"></div></div><div class=\"list_image\"><img src=\"/system/news_items/list_view_images/8446_download-6.jpg\" alt=\"\"></div><div class=\"bottom_gradient\"><div><h3>NASA's Mars Helicopter Testing Enters Final Phase</h3></div></div></a><div class=\"list_text\"><div class=\"list_date\">June  6, 2019</div><div class=\"content_title\"><a href=\"/news/8446/nasas-mars-helicopter-testing-enters-final-phase/\" target=\"_self\">NASA's Mars Helicopter Testing Enters Final Phase</a></div><div class=\"article_teaser_body\">NASA's Mars Helicopter flight demonstration project has passed a number of key tests with flying colors.</div></div></div></li><li class=\"slide\"><div class=\"image_and_description_container\"><a href=\"/news/8445/insights-team-tries-new-strategy-to-help-the-mole/\" target=\"_self\"><div class=\"rollover_description\"><div class=\"rollover_description_inner\">The spacecraft's robotic arm will lift the heat probe's support structure, providing a better look at the instrument that has been trying to burrow into the Martian surface.</div><div class=\"overlay_arrow\"><img src=\"/assets/overlay-arrow.png\" alt=\"More\"></div></div><div class=\"list_image\"><img src=\"/system/news_items/list_view_images/8445_PIA23272-226.jpg\" alt=\"A Plan to Get the Mole Moving Again\"></div><div class=\"bottom_gradient\"><div><h3>InSight's Team Tries New Strategy to Help the 'Mole'</h3></div></div></a><div class=\"list_text\"><div class=\"list_date\">June  5, 2019</div><div class=\"content_title\"><a href=\"/news/8445/insights-team-tries-new-strategy-to-help-the-mole/\" target=\"_self\">InSight's Team Tries New Strategy to Help the 'Mole'</a></div><div class=\"article_teaser_body\">The spacecraft's robotic arm will lift the heat probe's support structure, providing a better look at the instrument that has been trying to burrow into the Martian surface.</div></div></div></li><li class=\"slide\"><div class=\"image_and_description_container\"><a href=\"/news/8444/common-questions-about-insights-mole/\" target=\"_self\"><div class=\"rollover_description\"><div class=\"rollover_description_inner\">There's a new plan to get InSight's \"mole\" moving again. The following Q&amp;As with two members of the team answer some of the most common questions about the burrowing device, part of a science instrument called the Heat Flow and Physical Properties Package (HP3).</div><div class=\"overlay_arrow\"><img src=\"/assets/overlay-arrow.png\" alt=\"More\"></div></div><div class=\"list_image\"><img src=\"/system/news_items/list_view_images/8444_PIA23271-320x240.jpg\" alt=\"The support structure of the Heat Flow and Physical Properties Package (HP3) instrument moved slightly during hammering, as indicated by the circular &quot;footprints&quot; around the instrument's footpads. \"></div><div class=\"bottom_gradient\"><div><h3>Common Questions about InSight's 'Mole'</h3></div></div></a><div class=\"list_text\"><div class=\"list_date\">June  5, 2019</div><div class=\"content_title\"><a href=\"/news/8444/common-questions-about-insights-mole/\" target=\"_self\">Common Questions about InSight's 'Mole'</a></div><div class=\"article_teaser_body\">There's a new plan to get InSight's \"mole\" moving again. The following Q&amp;As with two members of the team answer some of the most common questions about the burrowing device, part of a science instrument called the Heat Flow and Physical Properties Package (HP3).</div></div></div></li></ul>"
   ]
  },
  {
   "cell_type": "code",
   "execution_count": 4,
   "metadata": {},
   "outputs": [],
   "source": [
    "browser.visit(url_news)"
   ]
  },
  {
   "cell_type": "code",
   "execution_count": 5,
   "metadata": {},
   "outputs": [],
   "source": [
    "html_news = browser.html\n",
    "soup_news = bs(html_news, 'lxml')"
   ]
  },
  {
   "cell_type": "code",
   "execution_count": 6,
   "metadata": {},
   "outputs": [],
   "source": [
    "# soup_nasa_mars_news.find_all('ul', class_='item_list')\n",
    "news_item = soup_news.find_all('li', class_='slide')[0]"
   ]
  },
  {
   "cell_type": "code",
   "execution_count": 7,
   "metadata": {},
   "outputs": [
    {
     "data": {
      "text/plain": [
       "bs4.element.Tag"
      ]
     },
     "execution_count": 7,
     "metadata": {},
     "output_type": "execute_result"
    }
   ],
   "source": [
    "type(news_item)"
   ]
  },
  {
   "cell_type": "code",
   "execution_count": 9,
   "metadata": {},
   "outputs": [
    {
     "name": "stdout",
     "output_type": "stream",
     "text": [
      "NASA's Curiosity Rover Finds an Ancient Oasis on Mars\n"
     ]
    }
   ],
   "source": [
    "# print(soup.find_all('li', class_='slide')[0].h3.text)\n",
    "news_title = news_item.h3.text\n",
    "print(news_title)"
   ]
  },
  {
   "cell_type": "code",
   "execution_count": 10,
   "metadata": {},
   "outputs": [
    {
     "name": "stdout",
     "output_type": "stream",
     "text": [
      "New evidence suggests salty, shallow ponds once dotted a Martian crater — a sign of the planet's drying climate.NASA's Curiosity Rover Finds an Ancient Oasis on MarsOctober  7, 2019NASA's Curiosity Rover Finds an Ancient Oasis on MarsNew evidence suggests salty, shallow ponds once dotted a Martian crater — a sign of the planet's drying climate.\n"
     ]
    }
   ],
   "source": [
    "# print(soup.find_all('li', class_='slide')[0].text)\n",
    "news_p = news_item.get_text()\n",
    "print(news_p)"
   ]
  },
  {
   "cell_type": "markdown",
   "metadata": {},
   "source": [
    "## JPL Mars Space Images - Featured Image\n",
    "* Visit the url for JPL Featured Space Image here.\n",
    "* https://www.jpl.nasa.gov/spaceimages/?search=&category=Mars\n",
    "* Use splinter to navigate the site and find the image url for the current Featured Mars Image and assign the url string to a variable called `featured_image_url`.\n",
    "* Make sure to find the image url to the full size .jpg image.\n",
    "* Make sure to save a complete url string for this image.\n",
    "\n",
    "### Example:\n",
    "* `featured_image_url = 'https://www.jpl.nasa.gov/spaceimages/images/largesize/PIA16225_hires.jpg'`"
   ]
  },
  {
   "cell_type": "code",
   "execution_count": 1,
   "metadata": {},
   "outputs": [],
   "source": [
    "# Click on full image.\n",
    "# Click on More Info.\n",
    "# Get the URL for full-image.\n",
    "# featured_image_url = 'https://www.jpl.nasa.gov' + \n",
    "# browser instance\n",
    "# click on button called full image\n",
    "\n",
    "# href=\"/spaceimages/images/mediumsize/PIA19343_ip.jpg\"\n",
    "# <figure class=\"lede\">\n",
    "# <a href=\"/spaceimages/images/largesize/PIA19343_hires.jpg\"><img alt=\"NASA's Low-Density Supersonic Decelerator hangs from a launch tower at U.S. Navy's Pacific Missile Range Facility in Kauai, Hawaii. The saucer-shaped vehicle will test two devices for landing heavy payloads on Mars.\" title=\"NASA's Low-Density Supersonic Decelerator hangs from a launch tower at U.S. Navy's Pacific Missile Range Facility in Kauai, Hawaii. The saucer-shaped vehicle will test two devices for landing heavy payloads on Mars.\" class=\"main_image\" src=\"/spaceimages/images/largesize/PIA19343_hires.jpg\"></a>\n",
    "# </figure>"
   ]
  },
  {
   "cell_type": "code",
   "execution_count": 11,
   "metadata": {},
   "outputs": [
    {
     "name": "stdout",
     "output_type": "stream",
     "text": [
      "https://www.jpl.nasa.gov/spaceimages/?search=&category=Mars\n"
     ]
    }
   ],
   "source": [
    "url_image = 'https://www.jpl.nasa.gov/spaceimages/?search=&category=Mars'\n",
    "print(url_image)"
   ]
  },
  {
   "cell_type": "code",
   "execution_count": 12,
   "metadata": {},
   "outputs": [],
   "source": [
    "# visit main image page --> page 1.\n",
    "browser.visit(url_image)"
   ]
  },
  {
   "cell_type": "code",
   "execution_count": 13,
   "metadata": {},
   "outputs": [],
   "source": [
    "# click on full image by button id property --> page 2\n",
    "browser.click_link_by_id(\"full_image\")"
   ]
  },
  {
   "cell_type": "code",
   "execution_count": 14,
   "metadata": {},
   "outputs": [],
   "source": [
    "# click on link --> page 3\n",
    "browser.click_link_by_partial_text(\"more info\")"
   ]
  },
  {
   "cell_type": "code",
   "execution_count": 15,
   "metadata": {},
   "outputs": [],
   "source": [
    "# create soup object to inspect DOM.\n",
    "soup_image = bs(browser.html, 'lxml')"
   ]
  },
  {
   "cell_type": "code",
   "execution_count": 16,
   "metadata": {},
   "outputs": [
    {
     "data": {
      "text/plain": [
       "'/spaceimages/images/largesize/PIA16837_hires.jpg'"
      ]
     },
     "execution_count": 16,
     "metadata": {},
     "output_type": "execute_result"
    }
   ],
   "source": [
    "# scrape image link url for hires featured image of the day.\n",
    "url_image_path = soup_image.article.figure.a['href']\n",
    "url_image_path"
   ]
  },
  {
   "cell_type": "code",
   "execution_count": 17,
   "metadata": {},
   "outputs": [
    {
     "name": "stdout",
     "output_type": "stream",
     "text": [
      "https://www.jpl.nasa.gov/spaceimages/images/largesize/PIA16837_hires.jpg\n"
     ]
    }
   ],
   "source": [
    "featured_image_url = 'https://www.jpl.nasa.gov' + url_image_path\n",
    "print(featured_image_url)"
   ]
  },
  {
   "cell_type": "markdown",
   "metadata": {},
   "source": [
    "## Mars Weather\n",
    "* Visit the Mars Weather twitter account here and scrape the latest Mars weather tweet from the page. Save the tweet text for the weather report as a variable called mars_weather.\n",
    "\n",
    "### Example:\n",
    "* `mars_weather = 'Sol 1801 (Aug 30, 2017), Sunny, high -21C/-5F, low -80C/-112F, pressure at 8.82 hPa, daylight 06:09-17:55'`"
   ]
  },
  {
   "cell_type": "code",
   "execution_count": 18,
   "metadata": {},
   "outputs": [
    {
     "name": "stdout",
     "output_type": "stream",
     "text": [
      "https://twitter.com/marswxreport?lang=en\n"
     ]
    }
   ],
   "source": [
    "url_weather = 'https://twitter.com/marswxreport?lang=en'\n",
    "print(url_weather)"
   ]
  },
  {
   "cell_type": "code",
   "execution_count": 19,
   "metadata": {},
   "outputs": [
    {
     "data": {
      "text/plain": [
       "<Response [200]>"
      ]
     },
     "execution_count": 19,
     "metadata": {},
     "output_type": "execute_result"
    }
   ],
   "source": [
    "requests.get(url_weather)"
   ]
  },
  {
   "cell_type": "code",
   "execution_count": 20,
   "metadata": {},
   "outputs": [],
   "source": [
    "html_weather = requests.get(url_weather).text\n",
    "# html_weather"
   ]
  },
  {
   "cell_type": "code",
   "execution_count": 21,
   "metadata": {},
   "outputs": [],
   "source": [
    "soup_weather = bs(html_weather, 'lxml')"
   ]
  },
  {
   "cell_type": "code",
   "execution_count": 22,
   "metadata": {},
   "outputs": [],
   "source": [
    "mars_weather = soup_weather.find('div', class_=\"content\").p.get_text()"
   ]
  },
  {
   "cell_type": "code",
   "execution_count": 23,
   "metadata": {},
   "outputs": [
    {
     "name": "stdout",
     "output_type": "stream",
     "text": [
      "InSight sol 313 (2019-10-14) low -101.4ºC (-150.6ºF) high -27.2ºC (-16.9ºF)\n",
      "winds from the SSE at 5.5 m/s (12.4 mph) gusting to 22.5 m/s (50.3 mph)\n",
      "pressure at 7.20 hPapic.twitter.com/2moNAouxXa\n"
     ]
    }
   ],
   "source": [
    "print(mars_weather)"
   ]
  },
  {
   "cell_type": "markdown",
   "metadata": {},
   "source": [
    "## Mars Facts\n",
    "* Visit the Mars Facts webpage here and use Pandas to scrape the table containing facts about the planet including Diameter, Mass, etc.\n",
    "* Use Pandas to convert the data to a HTML table string.\n",
    "* https://space-facts.com/mars/\n",
    "* Scraping strategy: No need to soupify.\n",
    "* Just pass HTML string directly to Pandas `read_html` method.\n",
    "* Pandas will automatically detect all tables and return a list of them.\n",
    "* Can reference individual tables with bracket notation, e.g. `[0]`"
   ]
  },
  {
   "cell_type": "code",
   "execution_count": 24,
   "metadata": {},
   "outputs": [],
   "source": [
    "url_facts = 'https://space-facts.com/mars/'"
   ]
  },
  {
   "cell_type": "code",
   "execution_count": 25,
   "metadata": {},
   "outputs": [
    {
     "name": "stdout",
     "output_type": "stream",
     "text": [
      "https://space-facts.com/mars/\n"
     ]
    }
   ],
   "source": [
    "print(url_facts)"
   ]
  },
  {
   "cell_type": "code",
   "execution_count": 26,
   "metadata": {},
   "outputs": [],
   "source": [
    "html_facts = requests.get(url_facts).text"
   ]
  },
  {
   "cell_type": "code",
   "execution_count": 27,
   "metadata": {},
   "outputs": [
    {
     "data": {
      "text/plain": [
       "[  Mars - Earth Comparison             Mars            Earth\n",
       " 0               Diameter:         6,779 km        12,742 km\n",
       " 1                   Mass:  6.39 × 10^23 kg  5.97 × 10^24 kg\n",
       " 2                  Moons:                2                1\n",
       " 3      Distance from Sun:   227,943,824 km   149,598,262 km\n",
       " 4         Length of Year:   687 Earth days      365.24 days\n",
       " 5            Temperature:    -153 to 20 °C      -88 to 58°C,\n",
       "                       0                              1\n",
       " 0  Equatorial Diameter:                       6,792 km\n",
       " 1       Polar Diameter:                       6,752 km\n",
       " 2                 Mass:  6.39 × 10^23 kg (0.11 Earths)\n",
       " 3                Moons:            2 (Phobos & Deimos)\n",
       " 4       Orbit Distance:       227,943,824 km (1.38 AU)\n",
       " 5         Orbit Period:           687 days (1.9 years)\n",
       " 6  Surface Temperature:                   -87 to -5 °C\n",
       " 7         First Record:              2nd millennium BC\n",
       " 8          Recorded By:           Egyptian astronomers]"
      ]
     },
     "execution_count": 27,
     "metadata": {},
     "output_type": "execute_result"
    }
   ],
   "source": [
    "pd.read_html(html_facts)"
   ]
  },
  {
   "cell_type": "code",
   "execution_count": 28,
   "metadata": {},
   "outputs": [
    {
     "name": "stdout",
     "output_type": "stream",
     "text": [
      "                      0                              1\n",
      "0  Equatorial Diameter:                       6,792 km\n",
      "1       Polar Diameter:                       6,752 km\n",
      "2                 Mass:  6.39 × 10^23 kg (0.11 Earths)\n",
      "3                Moons:            2 (Phobos & Deimos)\n",
      "4       Orbit Distance:       227,943,824 km (1.38 AU)\n",
      "5         Orbit Period:           687 days (1.9 years)\n",
      "6  Surface Temperature:                   -87 to -5 °C\n",
      "7         First Record:              2nd millennium BC\n",
      "8          Recorded By:           Egyptian astronomers\n"
     ]
    }
   ],
   "source": [
    "df_facts = pd.read_html(html_facts)[1]\n",
    "print(df_facts)\n",
    "# export to table without headers or index.\n",
    "# no need to soupify."
   ]
  },
  {
   "cell_type": "code",
   "execution_count": 29,
   "metadata": {},
   "outputs": [],
   "source": [
    "from IPython.display import HTML\n",
    "# https://blog.hedaro.com/styling-dataframe-tables.html"
   ]
  },
  {
   "cell_type": "code",
   "execution_count": 30,
   "metadata": {},
   "outputs": [
    {
     "data": {
      "text/html": [
       "<table border=\"1\" class=\"dataframe\">  <tbody>    <tr>      <td>Equatorial Diameter:</td>      <td>6,792 km</td>    </tr>    <tr>      <td>Polar Diameter:</td>      <td>6,752 km</td>    </tr>    <tr>      <td>Mass:</td>      <td>6.39 × 10^23 kg (0.11 Earths)</td>    </tr>    <tr>      <td>Moons:</td>      <td>2 (Phobos &amp; Deimos)</td>    </tr>    <tr>      <td>Orbit Distance:</td>      <td>227,943,824 km (1.38 AU)</td>    </tr>    <tr>      <td>Orbit Period:</td>      <td>687 days (1.9 years)</td>    </tr>    <tr>      <td>Surface Temperature:</td>      <td>-87 to -5 °C</td>    </tr>    <tr>      <td>First Record:</td>      <td>2nd millennium BC</td>    </tr>    <tr>      <td>Recorded By:</td>      <td>Egyptian astronomers</td>    </tr>  </tbody></table>"
      ],
      "text/plain": [
       "<IPython.core.display.HTML object>"
      ]
     },
     "execution_count": 30,
     "metadata": {},
     "output_type": "execute_result"
    }
   ],
   "source": [
    "# HTML(df_mars_facts.to_html(header=False, index=False))\n",
    "facts_html_table = df_facts.to_html(header=False, index=False)\n",
    "facts_html_table = facts_html_table.replace('\\n', '')\n",
    "facts_html_table\n",
    "HTML(facts_html_table)"
   ]
  },
  {
   "cell_type": "markdown",
   "metadata": {},
   "source": [
    "## Mars Hemispheres\n",
    "* Visit the USGS Astrogeology site here to obtain high resolution images for each of Mar's hemispheres.\n",
    "* You will need to click each of the links to the hemispheres in order to find the image url to the full resolution image.\n",
    "* Save both the image url string for the full resolution hemisphere image, and the Hemisphere title containing the hemisphere name. Use a Python dictionary to store the data using the keys img_url and title.\n",
    "* Append the dictionary with the image url string and the hemisphere title to a list. This list will contain one dictionary for each hemisphere.\n",
    "\n",
    "### Example:\n",
    ">`hemisphere_image_urls = [\n",
    "    {\"title\": \"Valles Marineris Hemisphere\", \"img_url\": \"...\"},\n",
    "    {\"title\": \"Cerberus Hemisphere\", \"img_url\": \"...\"},\n",
    "    {\"title\": \"Schiaparelli Hemisphere\", \"img_url\": \"...\"},\n",
    "    {\"title\": \"Syrtis Major Hemisphere\", \"img_url\": \"...\"},\n",
    "]`"
   ]
  },
  {
   "cell_type": "code",
   "execution_count": 2,
   "metadata": {},
   "outputs": [],
   "source": [
    "# executable_path = {'executable_path': 'chromedriver.exe'}\n",
    "# browser = Browser('chrome', **executable_path, headless=False)"
   ]
  },
  {
   "cell_type": "code",
   "execution_count": 31,
   "metadata": {},
   "outputs": [
    {
     "name": "stdout",
     "output_type": "stream",
     "text": [
      "https://astrogeology.usgs.gov/search/results?q=hemisphere+enhanced&k1=target&v1=Mars\n"
     ]
    }
   ],
   "source": [
    "url_hemispheres = 'https://astrogeology.usgs.gov/search/results?q=hemisphere+enhanced&k1=target&v1=Mars'\n",
    "print(url_hemispheres)"
   ]
  },
  {
   "cell_type": "code",
   "execution_count": 32,
   "metadata": {},
   "outputs": [],
   "source": [
    "browser.visit(url_hemispheres)\n",
    "# add a sleep here?"
   ]
  },
  {
   "cell_type": "code",
   "execution_count": 33,
   "metadata": {},
   "outputs": [],
   "source": [
    "# browser.html"
   ]
  },
  {
   "cell_type": "code",
   "execution_count": 34,
   "metadata": {},
   "outputs": [],
   "source": [
    "html_hemispheres = browser.html\n",
    "soup_hemispheres = bs(html_hemispheres, 'lxml')"
   ]
  },
  {
   "cell_type": "code",
   "execution_count": 35,
   "metadata": {},
   "outputs": [
    {
     "data": {
      "text/plain": [
       "ParseResult(scheme='https', netloc='astrogeology.usgs.gov', path='/search/results', params='', query='q=hemisphere+enhanced&k1=target&v1=Mars', fragment='')"
      ]
     },
     "execution_count": 35,
     "metadata": {},
     "output_type": "execute_result"
    }
   ],
   "source": [
    "urlparse(url_hemispheres)"
   ]
  },
  {
   "cell_type": "code",
   "execution_count": 36,
   "metadata": {},
   "outputs": [],
   "source": [
    "# len(soup_hemispheres.find_all('div', class_=\"collapsible results\"))\n",
    "hemisphere_items = soup_hemispheres.find('div', class_=\"collapsible results\").find_all(\"div\", \"item\")"
   ]
  },
  {
   "cell_type": "code",
   "execution_count": 37,
   "metadata": {},
   "outputs": [
    {
     "data": {
      "text/plain": [
       "'Astropedia Search Results | USGS Astrogeology Science Center'"
      ]
     },
     "execution_count": 37,
     "metadata": {},
     "output_type": "execute_result"
    }
   ],
   "source": [
    "soup_hemispheres.title.text"
   ]
  },
  {
   "cell_type": "code",
   "execution_count": 38,
   "metadata": {},
   "outputs": [],
   "source": [
    "links = []\n",
    "for hemisphere in hemisphere_items:\n",
    "    link = 'https://' + urlparse(url_hemispheres).netloc + hemisphere.a['href']\n",
    "    links.append(link)"
   ]
  },
  {
   "cell_type": "code",
   "execution_count": 39,
   "metadata": {},
   "outputs": [
    {
     "name": "stdout",
     "output_type": "stream",
     "text": [
      "https://astrogeology.usgs.gov/search/map/Mars/Viking/cerberus_enhanced\n",
      "https://astrogeology.usgs.gov/search/map/Mars/Viking/schiaparelli_enhanced\n",
      "https://astrogeology.usgs.gov/search/map/Mars/Viking/syrtis_major_enhanced\n",
      "https://astrogeology.usgs.gov/search/map/Mars/Viking/valles_marineris_enhanced\n"
     ]
    }
   ],
   "source": [
    "for link in links:\n",
    "    print(link)"
   ]
  },
  {
   "cell_type": "code",
   "execution_count": 40,
   "metadata": {},
   "outputs": [
    {
     "name": "stdout",
     "output_type": "stream",
     "text": [
      "[{'title': 'Cerberus Hemisphere', 'img_url': 'http://astropedia.astrogeology.usgs.gov/download/Mars/Viking/cerberus_enhanced.tif/full.jpg'}, {'title': 'Schiaparelli Hemisphere', 'img_url': 'http://astropedia.astrogeology.usgs.gov/download/Mars/Viking/schiaparelli_enhanced.tif/full.jpg'}, {'title': 'Syrtis Major Hemisphere', 'img_url': 'http://astropedia.astrogeology.usgs.gov/download/Mars/Viking/syrtis_major_enhanced.tif/full.jpg'}, {'title': 'Valles Marineris Hemisphere', 'img_url': 'http://astropedia.astrogeology.usgs.gov/download/Mars/Viking/valles_marineris_enhanced.tif/full.jpg'}]\n"
     ]
    }
   ],
   "source": [
    "hemisphere_image_urls = [] # {\"title\": \"Valles Marineris Hemisphere\", \"img_url\": \"...\"}\n",
    "\n",
    "for link in links:\n",
    "    browser.visit(link)\n",
    "    time.sleep(1)\n",
    "    link_soup = bs(browser.html, 'lxml')\n",
    "    title = link_soup.h2.text.replace(\" Enhanced\", \"\")\n",
    "    img_url =  link_soup.find('div', class_=\"downloads\").find('li').a['href']    \n",
    "    hemisphere_image_urls.append({\"title\": title, \"img_url\": img_url})\n",
    "\n",
    "# keep enhanced?\n",
    "print(hemisphere_image_urls)"
   ]
  },
  {
   "cell_type": "code",
   "execution_count": 41,
   "metadata": {},
   "outputs": [
    {
     "name": "stdout",
     "output_type": "stream",
     "text": [
      "Cerberus Hemisphere :  http://astropedia.astrogeology.usgs.gov/download/Mars/Viking/cerberus_enhanced.tif/full.jpg\n",
      "Schiaparelli Hemisphere :  http://astropedia.astrogeology.usgs.gov/download/Mars/Viking/schiaparelli_enhanced.tif/full.jpg\n",
      "Syrtis Major Hemisphere :  http://astropedia.astrogeology.usgs.gov/download/Mars/Viking/syrtis_major_enhanced.tif/full.jpg\n",
      "Valles Marineris Hemisphere :  http://astropedia.astrogeology.usgs.gov/download/Mars/Viking/valles_marineris_enhanced.tif/full.jpg\n"
     ]
    }
   ],
   "source": [
    "for x in hemisphere_image_urls:\n",
    "    print(x['title'], \": \", x['img_url'])"
   ]
  },
  {
   "cell_type": "code",
   "execution_count": null,
   "metadata": {},
   "outputs": [],
   "source": []
  }
 ],
 "metadata": {
  "kernelspec": {
   "display_name": "Conda [PythonData]",
   "language": "python",
   "name": "pythondata"
  },
  "language_info": {
   "codemirror_mode": {
    "name": "ipython",
    "version": 3
   },
   "file_extension": ".py",
   "mimetype": "text/x-python",
   "name": "python",
   "nbconvert_exporter": "python",
   "pygments_lexer": "ipython3",
   "version": "3.7.3"
  }
 },
 "nbformat": 4,
 "nbformat_minor": 2
}
